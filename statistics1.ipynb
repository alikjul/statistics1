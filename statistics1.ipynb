{
 "cells": [
  {
   "cell_type": "markdown",
   "metadata": {},
   "source": [
    "### Задание 1\n",
    "Изобразите с помощью matplotlib. Изобразите точку x + 2y + 3z. Найдите угол между векторами x, y и x, z."
   ]
  },
  {
   "cell_type": "code",
   "execution_count": 2,
   "metadata": {},
   "outputs": [],
   "source": [
    "from math import sqrt, acos, degrees \n",
    "import numpy as np\n",
    "import matplotlib.pyplot as plt"
   ]
  },
  {
   "cell_type": "code",
   "execution_count": 3,
   "metadata": {},
   "outputs": [
    {
     "data": {
      "image/png": "[encoded data removed]",
      "text/plain": [
       "<Figure size 432x288 with 1 Axes>"
      ]
     },
     "metadata": {
      "needs_background": "light"
     },
     "output_type": "display_data"
    }
   ],
   "source": [
    "x = np.array([1, 1])\n",
    "y = np.array([2, 0])\n",
    "z = np.array([0, 2])\n",
    "v = x + 2*y + 3*z\n",
    "plt.plot(x[0], x[1], 'o')\n",
    "plt.plot(y[0], y[1], 'o')\n",
    "plt.plot(z[0], z[1], 'o')\n",
    "plt.plot(v[0], v[1], 'o')\n",
    "plt.grid()"
   ]
  },
  {
   "cell_type": "code",
   "execution_count": 12,
   "metadata": {},
   "outputs": [
    {
     "name": "stdout",
     "output_type": "stream",
     "text": [
      "Угол между векторами x и y равен 45.00000000000001\n"
     ]
    }
   ],
   "source": [
    "def scalar(v1, v3, v2, v4):\n",
    "    return v1 * v3 + v2 * v4 \n",
    "def module(v, vv):\n",
    "    return sqrt(v ** 2 + vv ** 2) \n",
    "cos = scalar(x[0], y[0], x[1], y[1]) / (module(x[0], x[1]) * module(y[0], y[1]))\n",
    "ang = acos(cos)\n",
    "print('Угол между векторами x и y равен', degrees(acos(cos)))"
   ]
  },
  {
   "cell_type": "code",
   "execution_count": 13,
   "metadata": {},
   "outputs": [
    {
     "name": "stdout",
     "output_type": "stream",
     "text": [
      "Угол между векторами x и z равен 45.00000000000001\n"
     ]
    }
   ],
   "source": [
    "cos = scalar(x[0], z[0], x[1], z[1]) / (module(x[0], x[1]) * module(z[0], z[1]))\n",
    "ang = acos(cos)\n",
    "print('Угол между векторами x и z равен', degrees(acos(cos)))"
   ]
  },
  {
   "cell_type": "markdown",
   "metadata": {},
   "source": [
    "### Задание 2\n",
    "\n",
    "Найдите собственные значения и собственные вектора матриц (необходимо решение на numpy). Для матрицы 3x3 можно посмотреть на корни характеристического многочлена, посчитанные в numpy."
   ]
  },
  {
   "cell_type": "code",
   "execution_count": 11,
   "metadata": {},
   "outputs": [],
   "source": [
    "m1 = np.array([[2, 2],\n",
    "               [1, 3]])\n",
    "\n",
    "m2 = np.array([[4, 1, -1],\n",
    "               [1, 4, -1],\n",
    "               [-1, -1, 4]])"
   ]
  },
  {
   "cell_type": "code",
   "execution_count": 12,
   "metadata": {},
   "outputs": [],
   "source": [
    "from scipy import linalg"
   ]
  },
  {
   "cell_type": "code",
   "execution_count": 13,
   "metadata": {},
   "outputs": [
    {
     "name": "stdout",
     "output_type": "stream",
     "text": [
      "Собственное значение (1+0j)\n",
      "Собственное значение (4+0j)\n",
      "Cобственный вектор [-0.89442719  0.4472136 ]\n",
      "Cобственный вектор [-0.70710678 -0.70710678]\n"
     ]
    }
   ],
   "source": [
    "i, k = linalg.eig(m1)\n",
    "for l in range(len(i)):\n",
    "    print(\"Собственное значение \" + str(i[l]))\n",
    "for l in range(len(i)):\n",
    "    print(\"Cобственный вектор \" + str(k[:,l]))"
   ]
  },
  {
   "cell_type": "code",
   "execution_count": 18,
   "metadata": {},
   "outputs": [
    {
     "name": "stdout",
     "output_type": "stream",
     "text": [
      "Собственное значение (2.999999999999999+0j)\n",
      "Собственное значение (5.999999999999997+0j)\n",
      "Собственное значение (2.9999999999999996+0j)\n",
      "Cобственный вектор [-0.81649658  0.40824829 -0.40824829]\n",
      "Cобственный вектор [ 0.57735027  0.57735027 -0.57735027]\n",
      "Cобственный вектор [-0.27658128  0.8035929   0.52701162]\n"
     ]
    }
   ],
   "source": [
    "m, n = linalg.eig(m2)\n",
    "for o in range(len(m)):\n",
    "    print(\"Собственное значение \" + str(m[o]))\n",
    "for o in range(len(m)):\n",
    "    print(\"Cобственный вектор \" + str(n[:,o]))"
   ]
  },
  {
   "cell_type": "markdown",
   "metadata": {},
   "source": [
    "### Задание 3\n",
    "Найдите сингулярное разложение матрицы."
   ]
  },
  {
   "cell_type": "code",
   "execution_count": 16,
   "metadata": {},
   "outputs": [],
   "source": [
    "m3 = np.array([[1, 2],\n",
    "               [2, 3]])"
   ]
  },
  {
   "cell_type": "code",
   "execution_count": 17,
   "metadata": {},
   "outputs": [
    {
     "data": {
      "text/plain": [
       "(array([[-0.52573111, -0.85065081],\n",
       "        [-0.85065081,  0.52573111]]),\n",
       " array([4.23606798, 0.23606798]),\n",
       " array([[-0.52573111, -0.85065081],\n",
       "        [ 0.85065081, -0.52573111]]))"
      ]
     },
     "execution_count": 17,
     "metadata": {},
     "output_type": "execute_result"
    }
   ],
   "source": [
    "np.linalg.svd(m3)"
   ]
  }
 ],
 "metadata": {
  "kernelspec": {
   "display_name": "Python 3",
   "language": "python",
   "name": "python3"
  },
  "language_info": {
   "codemirror_mode": {
    "name": "ipython",
    "version": 3
   },
   "file_extension": ".py",
   "mimetype": "text/x-python",
   "name": "python",
   "nbconvert_exporter": "python",
   "pygments_lexer": "ipython3",
   "version": "3.7.6"
  }
 },
 "nbformat": 4,
 "nbformat_minor": 4
}
